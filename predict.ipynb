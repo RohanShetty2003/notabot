{
  "nbformat": 4,
  "nbformat_minor": 0,
  "metadata": {
    "colab": {
      "provenance": [],
      "authorship_tag": "ABX9TyMD5+bEKXnIqBBTeQfiBYRN",
      "include_colab_link": true
    },
    "kernelspec": {
      "name": "python3",
      "display_name": "Python 3"
    },
    "language_info": {
      "name": "python"
    }
  },
  "cells": [
    {
      "cell_type": "markdown",
      "metadata": {
        "id": "view-in-github",
        "colab_type": "text"
      },
      "source": [
        "<a href=\"https://colab.research.google.com/github/Prathammayur/notabot/blob/main/predict.ipynb\" target=\"_parent\"><img src=\"https://colab.research.google.com/assets/colab-badge.svg\" alt=\"Open In Colab\"/></a>"
      ]
    },
    {
      "cell_type": "code",
      "execution_count": null,
      "metadata": {
        "id": "IkN6B6G4FXeI"
      },
      "outputs": [],
      "source": [
        "import streamlit as st\n",
        "import tensorflow as tf\n",
        "from PIL import Image\n",
        "import numpy as np\n",
        "import cv2\n",
        "from tensorflow import keras\n",
        "from keras.preprocessing.image import image_utils as img\n",
        "img.img_to_array\n",
        "img.load_img\n",
        "from keras.preprocessing.text import Tokenizer\n",
        "from keras.models import Model\n",
        "from keras.layers import Input\n",
        "\n",
        "#model1 is vgg16 for feature extraction\n",
        "model1=VGG16(include_top=False)\n",
        "model1=Model(inputs=model1.inputs, outputs=model1.layers[-2].output)\n",
        "\n",
        "model = tf.keras.models.load_model('D:/Desktop/best_model.h5')\n",
        "\n",
        "def preprocess(image):\n",
        "    img = image.resize((224, 224))\n",
        "    img = np.array(img)\n",
        "    img = img / 255.0\n",
        "    img = img.reshape((1, 224, 224, 3))\n",
        "    return img\n",
        "\n",
        "BASE_DIR='D:/Desktop/hack/flickr8k'\n",
        "# Reading the descriptions.txt file\n",
        "with open(os.path.join(BASE_DIR, 'captions.txt'), 'r') as f:\n",
        "    next(f)\n",
        "    desc_doc = f.read()\n",
        "\n",
        "\n",
        "#Mapping the descriptions to the images\n",
        "mapping = {}\n",
        "for each_desc in (desc_doc.split('\\n')):\n",
        "    tokens = each_desc.split(',')\n",
        "    if len(each_desc) < 2:\n",
        "        continue\n",
        "    image_id, desc_of = tokens[0], tokens[1:]\n",
        "    image_id = image_id.split('.')[0]\n",
        "    desc_of = \" \".join(desc_of)\n",
        "    if image_id not in mapping:\n",
        "        mapping[image_id] = []\n",
        "    mapping[image_id].append(desc_of)\n",
        "\n",
        "# Appending all descriptions into a list: Each image with 5 descriptions\n",
        "img_desc = []\n",
        "for key in mapping:\n",
        "    for caption in mapping[key]:\n",
        "        img_desc.append(caption)\n",
        "\n",
        "\n",
        "tokenizer = Tokenizer()\n",
        "tokenizer.fit_on_texts(img_desc)\n",
        "\n",
        "def generate_caption(image):\n",
        "    img = preprocess(image)\n",
        "    caption = '<start> '\n",
        "    max_len = 35\n",
        "    \n",
        "\n",
        "    for i in range(max_len):\n",
        "        seq = tokenizer.texts_to_sequences([caption])[0]\n",
        "        seq = tf.keras.preprocessing.sequence.pad_sequences([seq], maxlen=max_len, padding='post')\n",
        "        preds = model.predict([img, seq])\n",
        "        word_pred = index_word[np.argmax(preds[0])]\n",
        "        caption += word_pred + ' '\n",
        "        if word_pred == '<end>':\n",
        "            break\n",
        "    return caption"
      ]
    }
  ]
}